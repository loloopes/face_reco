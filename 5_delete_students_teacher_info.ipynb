{
 "cells": [
  {
   "cell_type": "code",
   "execution_count": 1,
   "metadata": {},
   "outputs": [],
   "source": [
    "import pandas as pd\n",
    "import numpy as np\n",
    "import redis"
   ]
  },
  {
   "cell_type": "code",
   "execution_count": 2,
   "metadata": {},
   "outputs": [],
   "source": [
    "# connect to redis client\n",
    "r = redis.StrictRedis(\n",
    "    host=\"redis-11755.c308.sa-east-1-1.ec2.cloud.redislabs.com\", \n",
    "    port=11755,\n",
    "    username=\"default\",\n",
    "    password=\"CzdAM8ReaYrKSySrvShim7abK4ZENraC\",\n",
    ")"
   ]
  },
  {
   "cell_type": "code",
   "execution_count": 3,
   "metadata": {},
   "outputs": [
    {
     "data": {
      "text/plain": [
       "True"
      ]
     },
     "execution_count": 3,
     "metadata": {},
     "output_type": "execute_result"
    }
   ],
   "source": [
    "r.ping()"
   ]
  },
  {
   "cell_type": "code",
   "execution_count": 7,
   "metadata": {},
   "outputs": [
    {
     "data": {
      "text/plain": [
       "b'Chris Evans@student'           b'\\xf7\\xbc\\xb6>(o\\xd4\\xbe\\x87\\xa3 =\\xbb\\x11\\x1...\n",
       "b'Barack Obama@teacher'          b'\\xd8\\x19c\\xbez\\xc1\\xc9?\\xbb\\xc9\\x00\\xbf\\xf2F...\n",
       "b'Angelina Jolie@student'        b'L\\x97K>\\xfc\\xc8\\xbc?\\xa0\\x9e\\xc8\\xbd\\xcdha\\x...\n",
       "b'gugubs1@Student'               b'\\xe6\\x14Z\\xbe\\x13\\xe2\\x89\\xbf\\xeb\\x13g\\xbf\\x...\n",
       "b'Scarlett Johansson@student'    b'\\xc6\\x9b\\n\\xbeut\\x90\\xbe\\xd8\\xa0\\xda\\xbe\\x17...\n",
       "b'Morgan Freeman@teacher'        b')FC?V\\xffc?\\x1b\\xfe\\xef>)\\x99\\x84>\\xee\\xfcb\\...\n",
       "dtype: object"
      ]
     },
     "execution_count": 7,
     "metadata": {},
     "output_type": "execute_result"
    }
   ],
   "source": [
    "name = 'academy:register'\n",
    "r.hgetall(name)\n",
    "registered_series = pd.Series(r.hgetall(name))\n",
    "registered_series"
   ]
  },
  {
   "cell_type": "code",
   "execution_count": 10,
   "metadata": {},
   "outputs": [
    {
     "data": {
      "text/plain": [
       "1"
      ]
     },
     "execution_count": 10,
     "metadata": {},
     "output_type": "execute_result"
    }
   ],
   "source": [
    "# delete keys/fields\n",
    "key_to_delete = 'gugubs1@Student'\n",
    "r.hdel(name, key_to_delete)"
   ]
  },
  {
   "cell_type": "code",
   "execution_count": 9,
   "metadata": {},
   "outputs": [
    {
     "data": {
      "text/plain": [
       "b'Angelina Jolie@student'        b'L\\x97K>\\xfc\\xc8\\xbc?\\xa0\\x9e\\xc8\\xbd\\xcdha\\x...\n",
       "b'Chris Evans@student'           b'\\xf7\\xbc\\xb6>(o\\xd4\\xbe\\x87\\xa3 =\\xbb\\x11\\x1...\n",
       "b'Scarlett Johansson@student'    b'\\xc6\\x9b\\n\\xbeut\\x90\\xbe\\xd8\\xa0\\xda\\xbe\\x17...\n",
       "b'Morgan Freeman@teacher'        b')FC?V\\xffc?\\x1b\\xfe\\xef>)\\x99\\x84>\\xee\\xfcb\\...\n",
       "b'Barack Obama@teacher'          b'\\xd8\\x19c\\xbez\\xc1\\xc9?\\xbb\\xc9\\x00\\xbf\\xf2F...\n",
       "dtype: object"
      ]
     },
     "execution_count": 9,
     "metadata": {},
     "output_type": "execute_result"
    }
   ],
   "source": [
    "r.hgetall(name)\n",
    "registered_series = pd.Series(r.hgetall(name))\n",
    "registered_series"
   ]
  },
  {
   "cell_type": "code",
   "execution_count": null,
   "metadata": {},
   "outputs": [],
   "source": []
  }
 ],
 "metadata": {
  "kernelspec": {
   "display_name": "face_reco",
   "language": "python",
   "name": "python3"
  },
  "language_info": {
   "codemirror_mode": {
    "name": "ipython",
    "version": 3
   },
   "file_extension": ".py",
   "mimetype": "text/x-python",
   "name": "python",
   "nbconvert_exporter": "python",
   "pygments_lexer": "ipython3",
   "version": "3.10.9"
  }
 },
 "nbformat": 4,
 "nbformat_minor": 2
}
