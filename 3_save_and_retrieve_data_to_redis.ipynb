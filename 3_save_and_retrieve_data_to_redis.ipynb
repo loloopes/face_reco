{
 "cells": [
  {
   "cell_type": "code",
   "execution_count": 4,
   "metadata": {},
   "outputs": [],
   "source": [
    "import numpy as np\n",
    "import pandas as pd\n",
    "import redis\n",
    "import cv2"
   ]
  },
  {
   "cell_type": "code",
   "execution_count": 5,
   "metadata": {},
   "outputs": [],
   "source": [
    "r = redis.StrictRedis(\n",
    "    host=\"redis-11755.c308.sa-east-1-1.ec2.cloud.redislabs.com\", \n",
    "    port=11755,\n",
    "    username=\"default\",\n",
    "    password=\"CzdAM8ReaYrKSySrvShim7abK4ZENraC\",\n",
    ")"
   ]
  },
  {
   "cell_type": "code",
   "execution_count": 6,
   "metadata": {},
   "outputs": [
    {
     "data": {
      "text/plain": [
       "True"
      ]
     },
     "execution_count": 6,
     "metadata": {},
     "output_type": "execute_result"
    }
   ],
   "source": [
    "r.ping()"
   ]
  },
  {
   "cell_type": "code",
   "execution_count": 31,
   "metadata": {},
   "outputs": [
    {
     "data": {
      "text/plain": [
       "True"
      ]
     },
     "execution_count": 31,
     "metadata": {},
     "output_type": "execute_result"
    }
   ],
   "source": [
    "r.flushall()"
   ]
  },
  {
   "cell_type": "code",
   "execution_count": 7,
   "metadata": {},
   "outputs": [
    {
     "data": {
      "text/html": [
       "<div>\n",
       "<style scoped>\n",
       "    .dataframe tbody tr th:only-of-type {\n",
       "        vertical-align: middle;\n",
       "    }\n",
       "\n",
       "    .dataframe tbody tr th {\n",
       "        vertical-align: top;\n",
       "    }\n",
       "\n",
       "    .dataframe thead th {\n",
       "        text-align: right;\n",
       "    }\n",
       "</style>\n",
       "<table border=\"1\" class=\"dataframe\">\n",
       "  <thead>\n",
       "    <tr style=\"text-align: right;\">\n",
       "      <th></th>\n",
       "      <th>Name</th>\n",
       "      <th>Role</th>\n",
       "      <th>Facial_Features</th>\n",
       "    </tr>\n",
       "  </thead>\n",
       "  <tbody>\n",
       "    <tr>\n",
       "      <th>0</th>\n",
       "      <td>Angelina Jolie</td>\n",
       "      <td>student</td>\n",
       "      <td>[0.19881934, 1.4748836, -0.0979588, -0.8805054...</td>\n",
       "    </tr>\n",
       "    <tr>\n",
       "      <th>1</th>\n",
       "      <td>Barack Obama</td>\n",
       "      <td>teacher</td>\n",
       "      <td>[-0.22177827, 1.5762169, -0.50307816, 0.136012...</td>\n",
       "    </tr>\n",
       "    <tr>\n",
       "      <th>2</th>\n",
       "      <td>Chris Evans</td>\n",
       "      <td>student</td>\n",
       "      <td>[0.35691044, -0.41491055, 0.03921845, -0.15436...</td>\n",
       "    </tr>\n",
       "    <tr>\n",
       "      <th>3</th>\n",
       "      <td>Morgan Freeman</td>\n",
       "      <td>teacher</td>\n",
       "      <td>[0.7627893, 0.89061487, 0.46873555, 0.25898102...</td>\n",
       "    </tr>\n",
       "    <tr>\n",
       "      <th>4</th>\n",
       "      <td>Scarlett Johansson</td>\n",
       "      <td>student</td>\n",
       "      <td>[-0.13535985, -0.2821385, -0.4270084, -0.28251...</td>\n",
       "    </tr>\n",
       "  </tbody>\n",
       "</table>\n",
       "</div>"
      ],
      "text/plain": [
       "                 Name     Role  \\\n",
       "0      Angelina Jolie  student   \n",
       "1        Barack Obama  teacher   \n",
       "2         Chris Evans  student   \n",
       "3      Morgan Freeman  teacher   \n",
       "4  Scarlett Johansson  student   \n",
       "\n",
       "                                     Facial_Features  \n",
       "0  [0.19881934, 1.4748836, -0.0979588, -0.8805054...  \n",
       "1  [-0.22177827, 1.5762169, -0.50307816, 0.136012...  \n",
       "2  [0.35691044, -0.41491055, 0.03921845, -0.15436...  \n",
       "3  [0.7627893, 0.89061487, 0.46873555, 0.25898102...  \n",
       "4  [-0.13535985, -0.2821385, -0.4270084, -0.28251...  "
      ]
     },
     "execution_count": 7,
     "metadata": {},
     "output_type": "execute_result"
    }
   ],
   "source": [
    "# load the data (npzip)\n",
    "np_file = np.load('dataframe_students_teachers.npz', allow_pickle=True)\n",
    "x_values = np_file['arr_0']\n",
    "col_names = np_file['arr_1']\n",
    "\n",
    "df = pd.DataFrame(x_values, columns=col_names)\n",
    "df"
   ]
  },
  {
   "cell_type": "code",
   "execution_count": 8,
   "metadata": {},
   "outputs": [
    {
     "data": {
      "text/html": [
       "<div>\n",
       "<style scoped>\n",
       "    .dataframe tbody tr th:only-of-type {\n",
       "        vertical-align: middle;\n",
       "    }\n",
       "\n",
       "    .dataframe tbody tr th {\n",
       "        vertical-align: top;\n",
       "    }\n",
       "\n",
       "    .dataframe thead th {\n",
       "        text-align: right;\n",
       "    }\n",
       "</style>\n",
       "<table border=\"1\" class=\"dataframe\">\n",
       "  <thead>\n",
       "    <tr style=\"text-align: right;\">\n",
       "      <th></th>\n",
       "      <th>Name</th>\n",
       "      <th>Role</th>\n",
       "      <th>Facial_Features</th>\n",
       "      <th>name_role</th>\n",
       "    </tr>\n",
       "  </thead>\n",
       "  <tbody>\n",
       "    <tr>\n",
       "      <th>0</th>\n",
       "      <td>Angelina Jolie</td>\n",
       "      <td>student</td>\n",
       "      <td>[0.19881934, 1.4748836, -0.0979588, -0.8805054...</td>\n",
       "      <td>Angelina Jolie@student</td>\n",
       "    </tr>\n",
       "    <tr>\n",
       "      <th>1</th>\n",
       "      <td>Barack Obama</td>\n",
       "      <td>teacher</td>\n",
       "      <td>[-0.22177827, 1.5762169, -0.50307816, 0.136012...</td>\n",
       "      <td>Barack Obama@teacher</td>\n",
       "    </tr>\n",
       "    <tr>\n",
       "      <th>2</th>\n",
       "      <td>Chris Evans</td>\n",
       "      <td>student</td>\n",
       "      <td>[0.35691044, -0.41491055, 0.03921845, -0.15436...</td>\n",
       "      <td>Chris Evans@student</td>\n",
       "    </tr>\n",
       "    <tr>\n",
       "      <th>3</th>\n",
       "      <td>Morgan Freeman</td>\n",
       "      <td>teacher</td>\n",
       "      <td>[0.7627893, 0.89061487, 0.46873555, 0.25898102...</td>\n",
       "      <td>Morgan Freeman@teacher</td>\n",
       "    </tr>\n",
       "    <tr>\n",
       "      <th>4</th>\n",
       "      <td>Scarlett Johansson</td>\n",
       "      <td>student</td>\n",
       "      <td>[-0.13535985, -0.2821385, -0.4270084, -0.28251...</td>\n",
       "      <td>Scarlett Johansson@student</td>\n",
       "    </tr>\n",
       "  </tbody>\n",
       "</table>\n",
       "</div>"
      ],
      "text/plain": [
       "                 Name     Role  \\\n",
       "0      Angelina Jolie  student   \n",
       "1        Barack Obama  teacher   \n",
       "2         Chris Evans  student   \n",
       "3      Morgan Freeman  teacher   \n",
       "4  Scarlett Johansson  student   \n",
       "\n",
       "                                     Facial_Features  \\\n",
       "0  [0.19881934, 1.4748836, -0.0979588, -0.8805054...   \n",
       "1  [-0.22177827, 1.5762169, -0.50307816, 0.136012...   \n",
       "2  [0.35691044, -0.41491055, 0.03921845, -0.15436...   \n",
       "3  [0.7627893, 0.89061487, 0.46873555, 0.25898102...   \n",
       "4  [-0.13535985, -0.2821385, -0.4270084, -0.28251...   \n",
       "\n",
       "                    name_role  \n",
       "0      Angelina Jolie@student  \n",
       "1        Barack Obama@teacher  \n",
       "2         Chris Evans@student  \n",
       "3      Morgan Freeman@teacher  \n",
       "4  Scarlett Johansson@student  "
      ]
     },
     "execution_count": 8,
     "metadata": {},
     "output_type": "execute_result"
    }
   ],
   "source": [
    "df['name_role'] = df['Name']+'@'+df['Role']\n",
    "df"
   ]
  },
  {
   "cell_type": "code",
   "execution_count": 9,
   "metadata": {},
   "outputs": [
    {
     "data": {
      "text/plain": [
       "5"
      ]
     },
     "execution_count": 9,
     "metadata": {},
     "output_type": "execute_result"
    }
   ],
   "source": [
    "records = df[['name_role', 'Facial_Features']].to_dict(orient='records')\n",
    "len(records)"
   ]
  },
  {
   "cell_type": "markdown",
   "metadata": {},
   "source": [
    "### Save data in redis\n",
    "* redis hashes\n",
    "* keyname = 'academy:register'"
   ]
  },
  {
   "cell_type": "code",
   "execution_count": 32,
   "metadata": {},
   "outputs": [],
   "source": [
    "for record in records:\n",
    "    name_role = record['name_role']\n",
    "    vector = record['Facial_Features']\n",
    "\n",
    "    # convert np array into bytes\n",
    "    vector_bytes = vector.tobytes()\n",
    "    r.hset('academy:register', key=name_role, value=vector_bytes)"
   ]
  },
  {
   "cell_type": "code",
   "execution_count": 11,
   "metadata": {},
   "outputs": [
    {
     "data": {
      "text/plain": [
       "dtype('float32')"
      ]
     },
     "execution_count": 11,
     "metadata": {},
     "output_type": "execute_result"
    }
   ],
   "source": [
    "vector.dtype"
   ]
  },
  {
   "cell_type": "markdown",
   "metadata": {},
   "source": [
    "### Retrieve records from redis"
   ]
  },
  {
   "cell_type": "code",
   "execution_count": 12,
   "metadata": {},
   "outputs": [
    {
     "data": {
      "text/plain": [
       "b'Angelina Jolie@student'        b'L\\x97K>\\xfc\\xc8\\xbc?\\xa0\\x9e\\xc8\\xbd\\xcdha\\x...\n",
       "b'Chris Evans@student'           b'\\xf7\\xbc\\xb6>(o\\xd4\\xbe\\x87\\xa3 =\\xbb\\x11\\x1...\n",
       "b'Gugubs@Student'                b'\\xe4\\x8d\\xba<:\\x0b\\xee<\\xba\\x02)=\\xd4\\xf1>=\\...\n",
       "b'Scarlett Johansson@student'    b'\\xc6\\x9b\\n\\xbeut\\x90\\xbe\\xd8\\xa0\\xda\\xbe\\x17...\n",
       "b'Morgan Freeman@teacher'        b')FC?V\\xffc?\\x1b\\xfe\\xef>)\\x99\\x84>\\xee\\xfcb\\...\n",
       "b'Barack Obama@teacher'          b'\\xd8\\x19c\\xbez\\xc1\\xc9?\\xbb\\xc9\\x00\\xbf\\xf2F...\n",
       "dtype: object"
      ]
     },
     "execution_count": 12,
     "metadata": {},
     "output_type": "execute_result"
    }
   ],
   "source": [
    "retrieved_dict = r.hgetall(name='academy:register')\n",
    "retrieved_series = pd.Series(retrieved_dict)\n",
    "retrieved_series"
   ]
  },
  {
   "cell_type": "code",
   "execution_count": 13,
   "metadata": {},
   "outputs": [],
   "source": [
    "#np.frombuffer(retrive_series[b'Morgan Freeman@Teacher'],dtype=np.float32).shape\n",
    "retrived_series = retrieved_series.apply(lambda x: np.frombuffer(x,dtype=np.float32))\n",
    "index = retrieved_series.index\n",
    "index = list(map(lambda x: x.decode(), index))"
   ]
  },
  {
   "cell_type": "code",
   "execution_count": 14,
   "metadata": {},
   "outputs": [],
   "source": [
    "retrieved_series.index = index"
   ]
  },
  {
   "cell_type": "code",
   "execution_count": 15,
   "metadata": {},
   "outputs": [
    {
     "data": {
      "text/html": [
       "<div>\n",
       "<style scoped>\n",
       "    .dataframe tbody tr th:only-of-type {\n",
       "        vertical-align: middle;\n",
       "    }\n",
       "\n",
       "    .dataframe tbody tr th {\n",
       "        vertical-align: top;\n",
       "    }\n",
       "\n",
       "    .dataframe thead th {\n",
       "        text-align: right;\n",
       "    }\n",
       "</style>\n",
       "<table border=\"1\" class=\"dataframe\">\n",
       "  <thead>\n",
       "    <tr style=\"text-align: right;\">\n",
       "      <th></th>\n",
       "      <th>name_role</th>\n",
       "      <th>facial_features</th>\n",
       "    </tr>\n",
       "  </thead>\n",
       "  <tbody>\n",
       "    <tr>\n",
       "      <th>0</th>\n",
       "      <td>b'Angelina Jolie@student'</td>\n",
       "      <td>[0.19881934, 1.4748836, -0.0979588, -0.8805054...</td>\n",
       "    </tr>\n",
       "    <tr>\n",
       "      <th>1</th>\n",
       "      <td>b'Chris Evans@student'</td>\n",
       "      <td>[0.35691044, -0.41491055, 0.03921845, -0.15436...</td>\n",
       "    </tr>\n",
       "    <tr>\n",
       "      <th>2</th>\n",
       "      <td>b'Gugubs@Student'</td>\n",
       "      <td>[0.022772737, 0.029058088, 0.041262366, 0.0466...</td>\n",
       "    </tr>\n",
       "    <tr>\n",
       "      <th>3</th>\n",
       "      <td>b'Scarlett Johansson@student'</td>\n",
       "      <td>[-0.13535985, -0.2821385, -0.4270084, -0.28251...</td>\n",
       "    </tr>\n",
       "    <tr>\n",
       "      <th>4</th>\n",
       "      <td>b'Morgan Freeman@teacher'</td>\n",
       "      <td>[0.7627893, 0.89061487, 0.46873555, 0.25898102...</td>\n",
       "    </tr>\n",
       "    <tr>\n",
       "      <th>5</th>\n",
       "      <td>b'Barack Obama@teacher'</td>\n",
       "      <td>[-0.22177827, 1.5762169, -0.50307816, 0.136012...</td>\n",
       "    </tr>\n",
       "  </tbody>\n",
       "</table>\n",
       "</div>"
      ],
      "text/plain": [
       "                       name_role  \\\n",
       "0      b'Angelina Jolie@student'   \n",
       "1         b'Chris Evans@student'   \n",
       "2              b'Gugubs@Student'   \n",
       "3  b'Scarlett Johansson@student'   \n",
       "4      b'Morgan Freeman@teacher'   \n",
       "5        b'Barack Obama@teacher'   \n",
       "\n",
       "                                     facial_features  \n",
       "0  [0.19881934, 1.4748836, -0.0979588, -0.8805054...  \n",
       "1  [0.35691044, -0.41491055, 0.03921845, -0.15436...  \n",
       "2  [0.022772737, 0.029058088, 0.041262366, 0.0466...  \n",
       "3  [-0.13535985, -0.2821385, -0.4270084, -0.28251...  \n",
       "4  [0.7627893, 0.89061487, 0.46873555, 0.25898102...  \n",
       "5  [-0.22177827, 1.5762169, -0.50307816, 0.136012...  "
      ]
     },
     "execution_count": 15,
     "metadata": {},
     "output_type": "execute_result"
    }
   ],
   "source": [
    "retrive_df = retrived_series.to_frame().reset_index()\n",
    "retrive_df.columns = ['name_role','facial_features']\n",
    "retrive_df"
   ]
  },
  {
   "cell_type": "markdown",
   "metadata": {},
   "source": [
    "# Registration form"
   ]
  },
  {
   "cell_type": "code",
   "execution_count": 16,
   "metadata": {},
   "outputs": [],
   "source": [
    "import cv2\n",
    "from insightface.app import FaceAnalysis"
   ]
  },
  {
   "cell_type": "code",
   "execution_count": 17,
   "metadata": {},
   "outputs": [
    {
     "name": "stderr",
     "output_type": "stream",
     "text": [
      "/home/glccampos/Downloads/pass/envs/face_reco/lib/python3.10/site-packages/onnxruntime/capi/onnxruntime_inference_collection.py:69: UserWarning: Specified provider 'CUDAExecutionProvider' is not in available provider names.Available providers: 'AzureExecutionProvider, CPUExecutionProvider'\n",
      "  warnings.warn(\n"
     ]
    },
    {
     "name": "stdout",
     "output_type": "stream",
     "text": [
      "Applied providers: ['CPUExecutionProvider'], with options: {'CPUExecutionProvider': {}}\n",
      "find model: models/models/buffalo_sc/1k3d68.onnx landmark_3d_68 ['None', 3, 192, 192] 0.0 1.0\n",
      "Applied providers: ['CPUExecutionProvider'], with options: {'CPUExecutionProvider': {}}\n",
      "find model: models/models/buffalo_sc/2d106det.onnx landmark_2d_106 ['None', 3, 192, 192] 0.0 1.0\n",
      "Applied providers: ['CPUExecutionProvider'], with options: {'CPUExecutionProvider': {}}\n",
      "find model: models/models/buffalo_sc/det_10g.onnx detection [1, 3, '?', '?'] 127.5 128.0\n",
      "Applied providers: ['CPUExecutionProvider'], with options: {'CPUExecutionProvider': {}}\n",
      "find model: models/models/buffalo_sc/genderage.onnx genderage ['None', 3, 96, 96] 0.0 1.0\n",
      "Applied providers: ['CPUExecutionProvider'], with options: {'CPUExecutionProvider': {}}\n",
      "find model: models/models/buffalo_sc/w600k_r50.onnx recognition ['None', 3, 112, 112] 127.5 127.5\n",
      "set det-size: (640, 640)\n"
     ]
    }
   ],
   "source": [
    "#config face analysis\n",
    "faceapp = FaceAnalysis(name='buffalo_sc',\n",
    "                       root='models',\n",
    "                       providers=['CUDAExecutionProvider', 'CPUExecutionProvider'])\n",
    "\n",
    "faceapp.prepare(ctx_id=0,\n",
    "                det_size=(640, 640),\n",
    "                det_thresh=0.5)"
   ]
  },
  {
   "cell_type": "markdown",
   "metadata": {},
   "source": [
    "### 1st step collect person role and name"
   ]
  },
  {
   "cell_type": "code",
   "execution_count": 25,
   "metadata": {},
   "outputs": [
    {
     "name": "stdout",
     "output_type": "stream",
     "text": [
      "Your name = gugubs\n",
      "Your role Student\n",
      "key = gugubs@Student\n"
     ]
    }
   ],
   "source": [
    "# py input\n",
    "person_name = input('Enter name: ')\n",
    "trials = 3\n",
    "for i in range(trials):\n",
    "    role = input(\"\"\"\n",
    "    Please choose:\n",
    "                1. Student\n",
    "                2. Teacher\n",
    "\n",
    "                Enter either 1 or 2\n",
    "                \"\"\")\n",
    "    if role in ('1', '2'):\n",
    "        if role == '1':\n",
    "            role = 'Student'\n",
    "        else:\n",
    "            role = 'Teacher'\n",
    "        break\n",
    "    else:\n",
    "        print('Invalid entry')\n",
    "        if i == 3:\n",
    "            print('Exceed max attempts!')\n",
    "\n",
    "key = person_name + '@' + role\n",
    "print('Your name =', person_name)\n",
    "print('Your role', role)\n",
    "print('key =', key)"
   ]
  },
  {
   "cell_type": "code",
   "execution_count": 26,
   "metadata": {},
   "outputs": [
    {
     "data": {
      "text/plain": [
       "('gugubs', 'Student')"
      ]
     },
     "execution_count": 26,
     "metadata": {},
     "output_type": "execute_result"
    }
   ],
   "source": [
    "person_name, role"
   ]
  },
  {
   "cell_type": "markdown",
   "metadata": {},
   "source": [
    "### 2nd step collect samples"
   ]
  },
  {
   "cell_type": "code",
   "execution_count": 27,
   "metadata": {},
   "outputs": [],
   "source": [
    "cap = cv2.VideoCapture(0)\n",
    "face_embeddings = []\n",
    "samples = 0\n",
    "\n",
    "while True:\n",
    "    ret, frame = cap.read()\n",
    "    if ret == False:\n",
    "        print('Unable to read camera')\n",
    "        break\n",
    "    # get results from insightface model\n",
    "    results = faceapp.get(frame, max_num=1)\n",
    "    for res in results:\n",
    "        samples += 1\n",
    "        x1, y1, x2, y2 = res['bbox'].astype(int)\n",
    "        cv2.rectangle(frame, (x1,y1), (x2,y2), (0,255,0), 1)\n",
    "\n",
    "        #facial embeddings\n",
    "        embeddings = res['embedding']\n",
    "        face_embeddings.append(embeddings)\n",
    "    \n",
    "    if samples >= 200:\n",
    "        break\n",
    "\n",
    "    cv2.imshow('frame', frame)\n",
    "    if cv2.waitKey(1) == ord('q'):\n",
    "        break\n",
    "\n",
    "cap.release()\n",
    "cv2.destroyAllWindows()"
   ]
  },
  {
   "cell_type": "markdown",
   "metadata": {},
   "source": [
    "### 3rd step optimize data and save in redis"
   ]
  },
  {
   "cell_type": "code",
   "execution_count": 28,
   "metadata": {},
   "outputs": [
    {
     "data": {
      "text/plain": [
       "(512,)"
      ]
     },
     "execution_count": 28,
     "metadata": {},
     "output_type": "execute_result"
    }
   ],
   "source": [
    "x_mean = np.asarray(face_embeddings).mean(axis=0)\n",
    "x_mean.shape"
   ]
  },
  {
   "cell_type": "code",
   "execution_count": 29,
   "metadata": {},
   "outputs": [],
   "source": [
    "# convert into bytes\n",
    "x_mean_bytes = x_mean.tobytes()"
   ]
  },
  {
   "cell_type": "code",
   "execution_count": 30,
   "metadata": {},
   "outputs": [
    {
     "data": {
      "text/plain": [
       "1"
      ]
     },
     "execution_count": 30,
     "metadata": {},
     "output_type": "execute_result"
    }
   ],
   "source": [
    "# save key and facial bytes into redis db\n",
    "r.hset(name='academy:register', key=key, value=x_mean_bytes)"
   ]
  },
  {
   "cell_type": "code",
   "execution_count": null,
   "metadata": {},
   "outputs": [],
   "source": []
  }
 ],
 "metadata": {
  "kernelspec": {
   "display_name": "face_reco",
   "language": "python",
   "name": "python3"
  },
  "language_info": {
   "codemirror_mode": {
    "name": "ipython",
    "version": 3
   },
   "file_extension": ".py",
   "mimetype": "text/x-python",
   "name": "python",
   "nbconvert_exporter": "python",
   "pygments_lexer": "ipython3",
   "version": "3.10.9"
  }
 },
 "nbformat": 4,
 "nbformat_minor": 2
}
