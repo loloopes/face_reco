{
 "cells": [
  {
   "cell_type": "code",
   "execution_count": 1,
   "metadata": {},
   "outputs": [],
   "source": [
    "import numpy as np\n",
    "import pandas as pd\n",
    "import redis\n",
    "import cv2"
   ]
  },
  {
   "cell_type": "code",
   "execution_count": 2,
   "metadata": {},
   "outputs": [],
   "source": [
    "r = redis.StrictRedis(\n",
    "    host=\"redis-11755.c308.sa-east-1-1.ec2.cloud.redislabs.com\", \n",
    "    port=11755,\n",
    "    username=\"default\", # use your Redis user. More info https://redis.io/docs/management/security/acl/\n",
    "    password=\"CzdAM8ReaYrKSySrvShim7abK4ZENraC\", # use your Redis password\n",
    ")"
   ]
  },
  {
   "cell_type": "code",
   "execution_count": 3,
   "metadata": {},
   "outputs": [
    {
     "data": {
      "text/plain": [
       "True"
      ]
     },
     "execution_count": 3,
     "metadata": {},
     "output_type": "execute_result"
    }
   ],
   "source": [
    "r.ping()"
   ]
  },
  {
   "cell_type": "code",
   "execution_count": 4,
   "metadata": {},
   "outputs": [
    {
     "data": {
      "text/html": [
       "<div>\n",
       "<style scoped>\n",
       "    .dataframe tbody tr th:only-of-type {\n",
       "        vertical-align: middle;\n",
       "    }\n",
       "\n",
       "    .dataframe tbody tr th {\n",
       "        vertical-align: top;\n",
       "    }\n",
       "\n",
       "    .dataframe thead th {\n",
       "        text-align: right;\n",
       "    }\n",
       "</style>\n",
       "<table border=\"1\" class=\"dataframe\">\n",
       "  <thead>\n",
       "    <tr style=\"text-align: right;\">\n",
       "      <th></th>\n",
       "      <th>Name</th>\n",
       "      <th>Role</th>\n",
       "      <th>Facial_Features</th>\n",
       "    </tr>\n",
       "  </thead>\n",
       "  <tbody>\n",
       "    <tr>\n",
       "      <th>0</th>\n",
       "      <td>Angelina Jolie</td>\n",
       "      <td>student</td>\n",
       "      <td>[0.43242034, 1.0748498, -0.12862368, -1.833291...</td>\n",
       "    </tr>\n",
       "    <tr>\n",
       "      <th>1</th>\n",
       "      <td>Barack Obama</td>\n",
       "      <td>teacher</td>\n",
       "      <td>[0.94858104, -0.5584052, 0.094820715, -1.27965...</td>\n",
       "    </tr>\n",
       "    <tr>\n",
       "      <th>2</th>\n",
       "      <td>Chris Evans</td>\n",
       "      <td>student</td>\n",
       "      <td>[0.7201716, -1.4684149, -0.7781254, -1.4601072...</td>\n",
       "    </tr>\n",
       "    <tr>\n",
       "      <th>3</th>\n",
       "      <td>Morgan Freeman</td>\n",
       "      <td>teacher</td>\n",
       "      <td>[0.485351, -0.6192554, -0.4069932, 1.0687786, ...</td>\n",
       "    </tr>\n",
       "    <tr>\n",
       "      <th>4</th>\n",
       "      <td>Scarlett Johansson</td>\n",
       "      <td>student</td>\n",
       "      <td>[0.19131963, -0.48843804, -1.690233, 0.4423967...</td>\n",
       "    </tr>\n",
       "  </tbody>\n",
       "</table>\n",
       "</div>"
      ],
      "text/plain": [
       "                 Name     Role  \\\n",
       "0      Angelina Jolie  student   \n",
       "1        Barack Obama  teacher   \n",
       "2         Chris Evans  student   \n",
       "3      Morgan Freeman  teacher   \n",
       "4  Scarlett Johansson  student   \n",
       "\n",
       "                                     Facial_Features  \n",
       "0  [0.43242034, 1.0748498, -0.12862368, -1.833291...  \n",
       "1  [0.94858104, -0.5584052, 0.094820715, -1.27965...  \n",
       "2  [0.7201716, -1.4684149, -0.7781254, -1.4601072...  \n",
       "3  [0.485351, -0.6192554, -0.4069932, 1.0687786, ...  \n",
       "4  [0.19131963, -0.48843804, -1.690233, 0.4423967...  "
      ]
     },
     "execution_count": 4,
     "metadata": {},
     "output_type": "execute_result"
    }
   ],
   "source": [
    "# load the data (npzip)\n",
    "np_file = np.load('dataframe_students_teachers.npz', allow_pickle=True)\n",
    "x_values = np_file['arr_0']\n",
    "col_names = np_file['arr_1']\n",
    "\n",
    "df = pd.DataFrame(x_values, columns=col_names)\n",
    "df"
   ]
  },
  {
   "cell_type": "code",
   "execution_count": 5,
   "metadata": {},
   "outputs": [
    {
     "data": {
      "text/html": [
       "<div>\n",
       "<style scoped>\n",
       "    .dataframe tbody tr th:only-of-type {\n",
       "        vertical-align: middle;\n",
       "    }\n",
       "\n",
       "    .dataframe tbody tr th {\n",
       "        vertical-align: top;\n",
       "    }\n",
       "\n",
       "    .dataframe thead th {\n",
       "        text-align: right;\n",
       "    }\n",
       "</style>\n",
       "<table border=\"1\" class=\"dataframe\">\n",
       "  <thead>\n",
       "    <tr style=\"text-align: right;\">\n",
       "      <th></th>\n",
       "      <th>Name</th>\n",
       "      <th>Role</th>\n",
       "      <th>Facial_Features</th>\n",
       "      <th>name_role</th>\n",
       "    </tr>\n",
       "  </thead>\n",
       "  <tbody>\n",
       "    <tr>\n",
       "      <th>0</th>\n",
       "      <td>Angelina Jolie</td>\n",
       "      <td>student</td>\n",
       "      <td>[0.43242034, 1.0748498, -0.12862368, -1.833291...</td>\n",
       "      <td>Angelina Jolie@student</td>\n",
       "    </tr>\n",
       "    <tr>\n",
       "      <th>1</th>\n",
       "      <td>Barack Obama</td>\n",
       "      <td>teacher</td>\n",
       "      <td>[0.94858104, -0.5584052, 0.094820715, -1.27965...</td>\n",
       "      <td>Barack Obama@teacher</td>\n",
       "    </tr>\n",
       "    <tr>\n",
       "      <th>2</th>\n",
       "      <td>Chris Evans</td>\n",
       "      <td>student</td>\n",
       "      <td>[0.7201716, -1.4684149, -0.7781254, -1.4601072...</td>\n",
       "      <td>Chris Evans@student</td>\n",
       "    </tr>\n",
       "    <tr>\n",
       "      <th>3</th>\n",
       "      <td>Morgan Freeman</td>\n",
       "      <td>teacher</td>\n",
       "      <td>[0.485351, -0.6192554, -0.4069932, 1.0687786, ...</td>\n",
       "      <td>Morgan Freeman@teacher</td>\n",
       "    </tr>\n",
       "    <tr>\n",
       "      <th>4</th>\n",
       "      <td>Scarlett Johansson</td>\n",
       "      <td>student</td>\n",
       "      <td>[0.19131963, -0.48843804, -1.690233, 0.4423967...</td>\n",
       "      <td>Scarlett Johansson@student</td>\n",
       "    </tr>\n",
       "  </tbody>\n",
       "</table>\n",
       "</div>"
      ],
      "text/plain": [
       "                 Name     Role  \\\n",
       "0      Angelina Jolie  student   \n",
       "1        Barack Obama  teacher   \n",
       "2         Chris Evans  student   \n",
       "3      Morgan Freeman  teacher   \n",
       "4  Scarlett Johansson  student   \n",
       "\n",
       "                                     Facial_Features  \\\n",
       "0  [0.43242034, 1.0748498, -0.12862368, -1.833291...   \n",
       "1  [0.94858104, -0.5584052, 0.094820715, -1.27965...   \n",
       "2  [0.7201716, -1.4684149, -0.7781254, -1.4601072...   \n",
       "3  [0.485351, -0.6192554, -0.4069932, 1.0687786, ...   \n",
       "4  [0.19131963, -0.48843804, -1.690233, 0.4423967...   \n",
       "\n",
       "                    name_role  \n",
       "0      Angelina Jolie@student  \n",
       "1        Barack Obama@teacher  \n",
       "2         Chris Evans@student  \n",
       "3      Morgan Freeman@teacher  \n",
       "4  Scarlett Johansson@student  "
      ]
     },
     "execution_count": 5,
     "metadata": {},
     "output_type": "execute_result"
    }
   ],
   "source": [
    "df['name_role'] = df['Name']+'@'+df['Role']\n",
    "df"
   ]
  },
  {
   "cell_type": "code",
   "execution_count": 6,
   "metadata": {},
   "outputs": [
    {
     "data": {
      "text/plain": [
       "5"
      ]
     },
     "execution_count": 6,
     "metadata": {},
     "output_type": "execute_result"
    }
   ],
   "source": [
    "records = df[['name_role', 'Facial_Features']].to_dict(orient='records')\n",
    "len(records)"
   ]
  },
  {
   "cell_type": "markdown",
   "metadata": {},
   "source": [
    "### Save data in redis\n",
    "* redis hashes\n",
    "* keyname = 'academy:register'"
   ]
  },
  {
   "cell_type": "code",
   "execution_count": 7,
   "metadata": {},
   "outputs": [],
   "source": [
    "for record in records:\n",
    "    name_role = record['name_role']\n",
    "    vector = record['Facial_Features']\n",
    "\n",
    "    # convert np array into bytes\n",
    "    vector_bytes = vector.tobytes()\n",
    "    r.hset('academy:register', key=name_role, value=vector_bytes)"
   ]
  },
  {
   "cell_type": "markdown",
   "metadata": {},
   "source": [
    "# Registration form"
   ]
  },
  {
   "cell_type": "code",
   "execution_count": 8,
   "metadata": {},
   "outputs": [],
   "source": [
    "import cv2\n",
    "from insightface.app import FaceAnalysis"
   ]
  },
  {
   "cell_type": "code",
   "execution_count": 9,
   "metadata": {},
   "outputs": [
    {
     "name": "stderr",
     "output_type": "stream",
     "text": [
      "/home/glccampos/Downloads/pass/envs/face_reco/lib/python3.10/site-packages/onnxruntime/capi/onnxruntime_inference_collection.py:69: UserWarning: Specified provider 'CUDAExecutionProvider' is not in available provider names.Available providers: 'AzureExecutionProvider, CPUExecutionProvider'\n",
      "  warnings.warn(\n"
     ]
    },
    {
     "name": "stdout",
     "output_type": "stream",
     "text": [
      "Applied providers: ['CPUExecutionProvider'], with options: {'CPUExecutionProvider': {}}\n",
      "find model: models/models/buffalo_l/1k3d68.onnx landmark_3d_68 ['None', 3, 192, 192] 0.0 1.0\n",
      "Applied providers: ['CPUExecutionProvider'], with options: {'CPUExecutionProvider': {}}\n",
      "find model: models/models/buffalo_l/2d106det.onnx landmark_2d_106 ['None', 3, 192, 192] 0.0 1.0\n",
      "Applied providers: ['CPUExecutionProvider'], with options: {'CPUExecutionProvider': {}}\n",
      "find model: models/models/buffalo_l/det_10g.onnx detection [1, 3, '?', '?'] 127.5 128.0\n",
      "Applied providers: ['CPUExecutionProvider'], with options: {'CPUExecutionProvider': {}}\n",
      "find model: models/models/buffalo_l/genderage.onnx genderage ['None', 3, 96, 96] 0.0 1.0\n",
      "Applied providers: ['CPUExecutionProvider'], with options: {'CPUExecutionProvider': {}}\n",
      "find model: models/models/buffalo_l/w600k_r50.onnx recognition ['None', 3, 112, 112] 127.5 127.5\n",
      "set det-size: (640, 640)\n"
     ]
    }
   ],
   "source": [
    "#config face analysis\n",
    "faceapp = FaceAnalysis(name='buffalo_l',\n",
    "                       root='models',\n",
    "                       providers=['CUDAExecutionProvider', 'CPUExecutionProvider'])\n",
    "\n",
    "faceapp.prepare(ctx_id=0,\n",
    "                det_size=(640, 640),\n",
    "                det_thresh=0.5)"
   ]
  },
  {
   "cell_type": "markdown",
   "metadata": {},
   "source": [
    "### 1st step collect person role and name"
   ]
  },
  {
   "cell_type": "code",
   "execution_count": 10,
   "metadata": {},
   "outputs": [
    {
     "name": "stdout",
     "output_type": "stream",
     "text": [
      "Your name = Lopes\n",
      "Your role Student\n",
      "key = Lopes@Student\n"
     ]
    }
   ],
   "source": [
    "# py input\n",
    "person_name = input('Enter name: ')\n",
    "trials = 3\n",
    "for i in range(trials):\n",
    "    role = input(\"\"\"\n",
    "    Please choose:\n",
    "                1. Student\n",
    "                2. Teacher\n",
    "\n",
    "                Enter either 1 or 2\n",
    "                \"\"\")\n",
    "    if role in ('1', '2'):\n",
    "        if role == '1':\n",
    "            role = 'Student'\n",
    "        else:\n",
    "            role = 'Teacher'\n",
    "        break\n",
    "    else:\n",
    "        print('Invalid entry')\n",
    "        if i == 3:\n",
    "            print('Exceed max attempts!')\n",
    "\n",
    "key = person_name + '@' + role\n",
    "print('Your name =', person_name)\n",
    "print('Your role', role)\n",
    "print('key =', key)"
   ]
  },
  {
   "cell_type": "code",
   "execution_count": 11,
   "metadata": {},
   "outputs": [
    {
     "data": {
      "text/plain": [
       "('Lopes', 'Student')"
      ]
     },
     "execution_count": 11,
     "metadata": {},
     "output_type": "execute_result"
    }
   ],
   "source": [
    "person_name, role"
   ]
  },
  {
   "cell_type": "markdown",
   "metadata": {},
   "source": [
    "### 2nd step collect samples"
   ]
  },
  {
   "cell_type": "code",
   "execution_count": 16,
   "metadata": {},
   "outputs": [
    {
     "name": "stderr",
     "output_type": "stream",
     "text": [
      "/home/glccampos/Downloads/pass/envs/face_reco/lib/python3.10/site-packages/insightface/utils/transform.py:68: FutureWarning: `rcond` parameter will change to the default of machine precision times ``max(M, N)`` where M and N are the input matrix dimensions.\n",
      "To use the future default and silence this warning we advise to pass `rcond=None`, to keep using the old, explicitly pass `rcond=-1`.\n",
      "  P = np.linalg.lstsq(X_homo, Y)[0].T # Affine matrix. 3 x 4\n"
     ]
    }
   ],
   "source": [
    "cap = cv2.VideoCapture(0)\n",
    "face_embeddings = []\n",
    "samples = 0\n",
    "\n",
    "while True:\n",
    "    ret, frame = cap.read()\n",
    "    if ret == False:\n",
    "        print('Unable to read camera')\n",
    "        break\n",
    "    # get results from insightface model\n",
    "    results = faceapp.get(frame, max_num=1)\n",
    "    for res in results:\n",
    "        samples += 1\n",
    "        x1, y1, x2, y2 = res['bbox'].astype(int)\n",
    "        cv2.rectangle(frame, (x1,y1), (x2,y2), (0,255,0), 1)\n",
    "\n",
    "        #facial embeddings\n",
    "        embeddings = res['embedding']\n",
    "        face_embeddings.append(embeddings)\n",
    "    \n",
    "    if samples >= 200:\n",
    "        break\n",
    "\n",
    "    cv2.imshow('frame', frame)\n",
    "    if cv2.waitKey(1) == ord('q'):\n",
    "        break\n",
    "\n",
    "cap.release()\n",
    "cv2.destroyAllWindows()"
   ]
  },
  {
   "cell_type": "markdown",
   "metadata": {},
   "source": [
    "### 3rd step optimize data and save in redis"
   ]
  },
  {
   "cell_type": "code",
   "execution_count": 19,
   "metadata": {},
   "outputs": [
    {
     "data": {
      "text/plain": [
       "(512,)"
      ]
     },
     "execution_count": 19,
     "metadata": {},
     "output_type": "execute_result"
    }
   ],
   "source": [
    "x_mean = np.asarray(face_embeddings).mean(axis=0)\n",
    "x_mean.shape"
   ]
  },
  {
   "cell_type": "code",
   "execution_count": 20,
   "metadata": {},
   "outputs": [],
   "source": [
    "# convert into bytes\n",
    "x_mean_bytes = x_mean.tobytes()"
   ]
  },
  {
   "cell_type": "code",
   "execution_count": 21,
   "metadata": {},
   "outputs": [
    {
     "data": {
      "text/plain": [
       "1"
      ]
     },
     "execution_count": 21,
     "metadata": {},
     "output_type": "execute_result"
    }
   ],
   "source": [
    "# save key and facial bytes into redis db\n",
    "r.hset(name='academy:register', key=key, value=x_mean_bytes)"
   ]
  },
  {
   "cell_type": "code",
   "execution_count": null,
   "metadata": {},
   "outputs": [],
   "source": []
  }
 ],
 "metadata": {
  "kernelspec": {
   "display_name": "face_reco",
   "language": "python",
   "name": "python3"
  },
  "language_info": {
   "codemirror_mode": {
    "name": "ipython",
    "version": 3
   },
   "file_extension": ".py",
   "mimetype": "text/x-python",
   "name": "python",
   "nbconvert_exporter": "python",
   "pygments_lexer": "ipython3",
   "version": "3.10.9"
  }
 },
 "nbformat": 4,
 "nbformat_minor": 2
}
